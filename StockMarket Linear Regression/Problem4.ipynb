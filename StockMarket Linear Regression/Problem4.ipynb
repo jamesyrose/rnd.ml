{
 "cells": [
  {
   "cell_type": "code",
   "execution_count": 1,
   "metadata": {},
   "outputs": [],
   "source": [
    "# Part a"
   ]
  },
  {
   "cell_type": "code",
   "execution_count": 2,
   "metadata": {},
   "outputs": [],
   "source": [
    "import pandas as pd\n",
    "import numpy as np"
   ]
  },
  {
   "cell_type": "code",
   "execution_count": 3,
   "metadata": {},
   "outputs": [],
   "source": [
    "df_2000 = pd.read_csv(\"hw4_nasdaq00.txt\", names=[\"price\"])\n",
    "df_2000 = df_2000.price/ df_2000.price.max() # Normalize on max to keep everything in positive quadrant"
   ]
  },
  {
   "cell_type": "code",
   "execution_count": 4,
   "metadata": {},
   "outputs": [],
   "source": [
    "def log_prob(x, a):\n",
    "    \"\"\"\n",
    "    :param x double[4]\n",
    "    :param a double[3]\n",
    "    \"\"\"\n",
    "    prob = 1 / np.sqrt(2 * np.pi) * np.exp(-.5 * (x[3]- a[0] * x[2] -a[1] *x[1] - a[2] * x[0]) ** 2)\n",
    "    return np.log(prob)\n",
    "\n",
    "def func(a):\n",
    "    buff = df_2000.rolling(window=4).apply(lambda x: log_prob(x, a), raw=True).dropna()\n",
    "    return sum(buff)\n",
    "\n",
    "def minimize_func(a):\n",
    "    return - func(a)"
   ]
  },
  {
   "cell_type": "code",
   "execution_count": 5,
   "metadata": {},
   "outputs": [
    {
     "name": "stdout",
     "output_type": "stream",
     "text": [
      "Weights: [ 0.59827443 -0.33076581  0.72952856]\n",
      "Log Likelihood: -226.16589322164688\n"
     ]
    }
   ],
   "source": [
    "# Create data strides\n",
    "def stride_data(data):\n",
    "    a_strides = np.lib.stride_tricks.as_strided(data, \n",
    "                                    shape=(len(data), 3),\n",
    "                                    strides=(8,8)\n",
    "                                   )[:-3]\n",
    "\n",
    "    b_strides = data[3:].to_numpy().reshape(-1,1)\n",
    "    return a_strides, b_strides\n",
    "a_strides, b_strides = stride_data(df_2000)\n",
    "\n",
    "# Compute A matrix and b vector\n",
    "A = np.zeros((3,3))\n",
    "b = np.zeros((3,1))\n",
    "for i in range(3, len(a_strides)):\n",
    "    A += a_strides[i-3:i]\n",
    "    b += b_strides[i-3:i]\n",
    "    \n",
    "A /= (len(a_strides) - 3)\n",
    "b /= (len(a_strides) - 3)\n",
    "\n",
    "# Compute weights Aw = b --> inv(A)b\n",
    "weights = np.matmul(\n",
    "    np.linalg.inv(A), b\n",
    ").reshape(1,-1)[0]\n",
    "\n",
    "log_likelihood = func(weights)\n",
    "print(f\"Weights: {weights}\")\n",
    "print(f\"Log Likelihood: {log_likelihood}\")"
   ]
  },
  {
   "cell_type": "code",
   "execution_count": 6,
   "metadata": {},
   "outputs": [
    {
     "name": "stdout",
     "output_type": "stream",
     "text": [
      "Weights: [0.41870383 0.31205593 0.26676497]\n",
      "Log Likelihood: -226.14794179168985\n",
      "Pretty close log likelihood\n"
     ]
    }
   ],
   "source": [
    "# Checking \n",
    "from scipy.optimize import least_squares\n",
    "initial = np.array([1,1,1])\n",
    "final = least_squares(minimize_func, initial)\n",
    "print(f\"Weights: {final.x}\")\n",
    "print(f\"Log Likelihood: {-final.fun[0]}\")\n",
    "print(\"Pretty close log likelihood\")"
   ]
  },
  {
   "cell_type": "markdown",
   "metadata": {},
   "source": [
    "# Part b"
   ]
  },
  {
   "cell_type": "code",
   "execution_count": 7,
   "metadata": {},
   "outputs": [
    {
     "name": "stdout",
     "output_type": "stream",
     "text": [
      "MSE for 2000\n"
     ]
    },
    {
     "data": {
      "text/plain": [
       "0.0007425384495222976"
      ]
     },
     "execution_count": 7,
     "metadata": {},
     "output_type": "execute_result"
    }
   ],
   "source": [
    "a = np.matrix(a_strides)\n",
    "w = np.matrix(weights)\n",
    "print(\"MSE for 2000\")\n",
    "np.mean(\n",
    "    np.array(\n",
    "        np.matmul(a, np.transpose(w))  - b_strides\n",
    "    ) ** 2\n",
    ")"
   ]
  },
  {
   "cell_type": "code",
   "execution_count": 8,
   "metadata": {},
   "outputs": [
    {
     "name": "stdout",
     "output_type": "stream",
     "text": [
      "MSE for 2001\n"
     ]
    },
    {
     "data": {
      "text/plain": [
       "0.0004951445800134974"
      ]
     },
     "execution_count": 8,
     "metadata": {},
     "output_type": "execute_result"
    }
   ],
   "source": [
    "df_2001 = pd.read_csv(\"hw4_nasdaq01.txt\", names=[\"price\"])\n",
    "df_2001 = df_2001.price/ df_2001.price.max()\n",
    "a_strides, b_strides = stride_data(df_2001)\n",
    "a = np.matrix(a_strides)\n",
    "w = np.matrix(weights)\n",
    "print(\"MSE for 2001\")\n",
    "np.mean(\n",
    "    np.array(\n",
    "        np.matmul(a, np.transpose(w))  - b_strides\n",
    "    ) ** 2\n",
    ")"
   ]
  },
  {
   "cell_type": "markdown",
   "metadata": {},
   "source": [
    "\n"
   ]
  },
  {
   "cell_type": "code",
   "execution_count": null,
   "metadata": {},
   "outputs": [],
   "source": []
  },
  {
   "cell_type": "code",
   "execution_count": null,
   "metadata": {},
   "outputs": [],
   "source": []
  }
 ],
 "metadata": {
  "kernelspec": {
   "display_name": "Python 3",
   "language": "python",
   "name": "python3"
  },
  "language_info": {
   "codemirror_mode": {
    "name": "ipython",
    "version": 3
   },
   "file_extension": ".py",
   "mimetype": "text/x-python",
   "name": "python",
   "nbconvert_exporter": "python",
   "pygments_lexer": "ipython3",
   "version": "3.6.9"
  }
 },
 "nbformat": 4,
 "nbformat_minor": 4
}
