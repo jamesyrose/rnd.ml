{
 "cells": [
  {
   "cell_type": "markdown",
   "metadata": {},
   "source": [
    "#  6.4 d"
   ]
  },
  {
   "cell_type": "code",
   "execution_count": 8,
   "metadata": {},
   "outputs": [],
   "source": [
    "import pandas as pd\n",
    "import numpy as np\n",
    "import matplotlib.pyplot as plt"
   ]
  },
  {
   "cell_type": "code",
   "execution_count": 9,
   "metadata": {},
   "outputs": [],
   "source": [
    "xdf = pd.read_csv(\"noisyOr_X.txt\", sep=\" \", usecols=range(23), names=range(23))\n",
    "ydf = pd.read_csv(\"noisyOr_Y.txt\", sep=\" \", names=[\"y\"])"
   ]
  },
  {
   "cell_type": "code",
   "execution_count": null,
   "metadata": {},
   "outputs": [],
   "source": []
  },
  {
   "cell_type": "code",
   "execution_count": 21,
   "metadata": {},
   "outputs": [],
   "source": [
    "T = 267\n",
    "p_i = [1/23] * 23\n",
    "log_like_hist = []\n",
    "mistake_hist = []\n",
    "\n",
    "T_i = xdf.sum().values  # for updating p_i  --- the 1/T part of it \n",
    "for _ in range(257): \n",
    "    log_like = 0\n",
    "    mistakes = 0\n",
    "    update_buff = 0\n",
    "    cnt = 0\n",
    "    for i in xdf.index: \n",
    "        x = xdf.loc[i, :].values\n",
    "        y = ydf.loc[i, \"y\"]\n",
    "        # Compute P(Y =y |x)\n",
    "        buff = 1\n",
    "        for x_idx in range(len(x)): \n",
    "            buff *= (1 - p_i[x_idx]) ** x[x_idx]\n",
    "        if y == 1: \n",
    "            p_y = 1 - buff\n",
    "        else:\n",
    "            p_y = buff\n",
    "        # add to Log likelikihood\n",
    "        log_like += np.log(p_y)\n",
    "        # add to Mistakes \n",
    "        if y ==1 and p_y <= .5:\n",
    "            mistakes += 1\n",
    "        elif y == 0 and p_y <=.5: \n",
    "            mistakes += 1\n",
    "        # add to update buffer\n",
    "        update_buff +=  y * x * p_i / (1 - buff)\n",
    "    # p_i update\n",
    "    p_i  = update_buff / T_i\n",
    "    # Appending History\n",
    "    log_like_hist.append(log_like / T)\n",
    "    mistake_hist.append(mistakes)\n",
    "        \n",
    "        \n"
   ]
  },
  {
   "cell_type": "code",
   "execution_count": 22,
   "metadata": {},
   "outputs": [
    {
     "data": {
      "text/html": [
       "<div>\n",
       "<style scoped>\n",
       "    .dataframe tbody tr th:only-of-type {\n",
       "        vertical-align: middle;\n",
       "    }\n",
       "\n",
       "    .dataframe tbody tr th {\n",
       "        vertical-align: top;\n",
       "    }\n",
       "\n",
       "    .dataframe thead th {\n",
       "        text-align: right;\n",
       "    }\n",
       "</style>\n",
       "<table border=\"1\" class=\"dataframe\">\n",
       "  <thead>\n",
       "    <tr style=\"text-align: right;\">\n",
       "      <th></th>\n",
       "      <th>Mistakes</th>\n",
       "      <th>LogLikelihood</th>\n",
       "    </tr>\n",
       "  </thead>\n",
       "  <tbody>\n",
       "    <tr>\n",
       "      <th>0</th>\n",
       "      <td>195</td>\n",
       "      <td>-1.044560</td>\n",
       "    </tr>\n",
       "    <tr>\n",
       "      <th>1</th>\n",
       "      <td>60</td>\n",
       "      <td>-0.504941</td>\n",
       "    </tr>\n",
       "    <tr>\n",
       "      <th>2</th>\n",
       "      <td>43</td>\n",
       "      <td>-0.410764</td>\n",
       "    </tr>\n",
       "    <tr>\n",
       "      <th>3</th>\n",
       "      <td>40</td>\n",
       "      <td>-0.378947</td>\n",
       "    </tr>\n",
       "    <tr>\n",
       "      <th>4</th>\n",
       "      <td>42</td>\n",
       "      <td>-0.365127</td>\n",
       "    </tr>\n",
       "    <tr>\n",
       "      <th>8</th>\n",
       "      <td>44</td>\n",
       "      <td>-0.347663</td>\n",
       "    </tr>\n",
       "    <tr>\n",
       "      <th>16</th>\n",
       "      <td>40</td>\n",
       "      <td>-0.334677</td>\n",
       "    </tr>\n",
       "    <tr>\n",
       "      <th>64</th>\n",
       "      <td>37</td>\n",
       "      <td>-0.314831</td>\n",
       "    </tr>\n",
       "    <tr>\n",
       "      <th>128</th>\n",
       "      <td>36</td>\n",
       "      <td>-0.311156</td>\n",
       "    </tr>\n",
       "    <tr>\n",
       "      <th>256</th>\n",
       "      <td>36</td>\n",
       "      <td>-0.310161</td>\n",
       "    </tr>\n",
       "  </tbody>\n",
       "</table>\n",
       "</div>"
      ],
      "text/plain": [
       "     Mistakes  LogLikelihood\n",
       "0         195      -1.044560\n",
       "1          60      -0.504941\n",
       "2          43      -0.410764\n",
       "3          40      -0.378947\n",
       "4          42      -0.365127\n",
       "8          44      -0.347663\n",
       "16         40      -0.334677\n",
       "64         37      -0.314831\n",
       "128        36      -0.311156\n",
       "256        36      -0.310161"
      ]
     },
     "execution_count": 22,
     "metadata": {},
     "output_type": "execute_result"
    }
   ],
   "source": [
    "results = pd.DataFrame(data = {\"Mistakes\": mistake_hist, \n",
    "                               \"LogLikelihood\": log_like_hist\n",
    "                               }\n",
    "                      )\n",
    "keep = [0,1,2,4,8,16,3,2,64,128,256]\n",
    "results[results.index.isin(keep)]"
   ]
  },
  {
   "cell_type": "code",
   "execution_count": 15,
   "metadata": {},
   "outputs": [
    {
     "data": {
      "text/plain": [
       "array([ 1.97966449e-081,  3.93057498e-139,  3.11432173e-091,\n",
       "        1.36834872e-124, -3.40427849e-095,  2.29424248e-144,\n",
       "        5.58212313e-125,  1.09819137e-080,  1.70165238e-118,\n",
       "        2.86652884e-098,  1.21524392e-140, -2.79394034e-122,\n",
       "       -1.38270054e-060, -1.29702436e-122,  1.85606046e-176,\n",
       "       -6.89440029e-111,  5.03145759e-191,  1.23496158e-204,\n",
       "        5.14672634e-144, -4.01334390e-109, -3.68720254e-094,\n",
       "       -2.67928563e-082,  2.12000000e+002])"
      ]
     },
     "execution_count": 15,
     "metadata": {},
     "output_type": "execute_result"
    }
   ],
   "source": []
  },
  {
   "cell_type": "code",
   "execution_count": null,
   "metadata": {},
   "outputs": [],
   "source": []
  },
  {
   "cell_type": "code",
   "execution_count": null,
   "metadata": {},
   "outputs": [],
   "source": []
  }
 ],
 "metadata": {
  "kernelspec": {
   "display_name": "Python 3",
   "language": "python",
   "name": "python3"
  },
  "language_info": {
   "codemirror_mode": {
    "name": "ipython",
    "version": 3
   },
   "file_extension": ".py",
   "mimetype": "text/x-python",
   "name": "python",
   "nbconvert_exporter": "python",
   "pygments_lexer": "ipython3",
   "version": "3.6.9"
  }
 },
 "nbformat": 4,
 "nbformat_minor": 4
}
