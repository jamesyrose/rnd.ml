{
 "cells": [
  {
   "cell_type": "code",
   "execution_count": 4,
   "metadata": {
    "collapsed": true,
    "jupyter": {
     "outputs_hidden": true
    }
   },
   "outputs": [
    {
     "name": "stderr",
     "output_type": "stream",
     "text": [
      "Using TensorFlow backend.\n",
      "/home/rose/.local/lib/python3.6/site-packages/tensorflow/python/framework/dtypes.py:516: FutureWarning: Passing (type, 1) or '1type' as a synonym of type is deprecated; in a future version of numpy, it will be understood as (type, (1,)) / '(1,)type'.\n",
      "  _np_qint8 = np.dtype([(\"qint8\", np.int8, 1)])\n",
      "/home/rose/.local/lib/python3.6/site-packages/tensorflow/python/framework/dtypes.py:517: FutureWarning: Passing (type, 1) or '1type' as a synonym of type is deprecated; in a future version of numpy, it will be understood as (type, (1,)) / '(1,)type'.\n",
      "  _np_quint8 = np.dtype([(\"quint8\", np.uint8, 1)])\n",
      "/home/rose/.local/lib/python3.6/site-packages/tensorflow/python/framework/dtypes.py:518: FutureWarning: Passing (type, 1) or '1type' as a synonym of type is deprecated; in a future version of numpy, it will be understood as (type, (1,)) / '(1,)type'.\n",
      "  _np_qint16 = np.dtype([(\"qint16\", np.int16, 1)])\n",
      "/home/rose/.local/lib/python3.6/site-packages/tensorflow/python/framework/dtypes.py:519: FutureWarning: Passing (type, 1) or '1type' as a synonym of type is deprecated; in a future version of numpy, it will be understood as (type, (1,)) / '(1,)type'.\n",
      "  _np_quint16 = np.dtype([(\"quint16\", np.uint16, 1)])\n",
      "/home/rose/.local/lib/python3.6/site-packages/tensorflow/python/framework/dtypes.py:520: FutureWarning: Passing (type, 1) or '1type' as a synonym of type is deprecated; in a future version of numpy, it will be understood as (type, (1,)) / '(1,)type'.\n",
      "  _np_qint32 = np.dtype([(\"qint32\", np.int32, 1)])\n",
      "/home/rose/.local/lib/python3.6/site-packages/tensorflow/python/framework/dtypes.py:525: FutureWarning: Passing (type, 1) or '1type' as a synonym of type is deprecated; in a future version of numpy, it will be understood as (type, (1,)) / '(1,)type'.\n",
      "  np_resource = np.dtype([(\"resource\", np.ubyte, 1)])\n",
      "/home/rose/.local/lib/python3.6/site-packages/tensorboard/compat/tensorflow_stub/dtypes.py:541: FutureWarning: Passing (type, 1) or '1type' as a synonym of type is deprecated; in a future version of numpy, it will be understood as (type, (1,)) / '(1,)type'.\n",
      "  _np_qint8 = np.dtype([(\"qint8\", np.int8, 1)])\n",
      "/home/rose/.local/lib/python3.6/site-packages/tensorboard/compat/tensorflow_stub/dtypes.py:542: FutureWarning: Passing (type, 1) or '1type' as a synonym of type is deprecated; in a future version of numpy, it will be understood as (type, (1,)) / '(1,)type'.\n",
      "  _np_quint8 = np.dtype([(\"quint8\", np.uint8, 1)])\n",
      "/home/rose/.local/lib/python3.6/site-packages/tensorboard/compat/tensorflow_stub/dtypes.py:543: FutureWarning: Passing (type, 1) or '1type' as a synonym of type is deprecated; in a future version of numpy, it will be understood as (type, (1,)) / '(1,)type'.\n",
      "  _np_qint16 = np.dtype([(\"qint16\", np.int16, 1)])\n",
      "/home/rose/.local/lib/python3.6/site-packages/tensorboard/compat/tensorflow_stub/dtypes.py:544: FutureWarning: Passing (type, 1) or '1type' as a synonym of type is deprecated; in a future version of numpy, it will be understood as (type, (1,)) / '(1,)type'.\n",
      "  _np_quint16 = np.dtype([(\"quint16\", np.uint16, 1)])\n",
      "/home/rose/.local/lib/python3.6/site-packages/tensorboard/compat/tensorflow_stub/dtypes.py:545: FutureWarning: Passing (type, 1) or '1type' as a synonym of type is deprecated; in a future version of numpy, it will be understood as (type, (1,)) / '(1,)type'.\n",
      "  _np_qint32 = np.dtype([(\"qint32\", np.int32, 1)])\n",
      "/home/rose/.local/lib/python3.6/site-packages/tensorboard/compat/tensorflow_stub/dtypes.py:550: FutureWarning: Passing (type, 1) or '1type' as a synonym of type is deprecated; in a future version of numpy, it will be understood as (type, (1,)) / '(1,)type'.\n",
      "  np_resource = np.dtype([(\"resource\", np.ubyte, 1)])\n"
     ]
    }
   ],
   "source": [
    "import pandas as pd\n",
    "from sklearn.model_selection import train_test_split\n",
    "from sklearn.preprocessing import LabelEncoder, OneHotEncoder\n",
    "from keras.utils import to_categorical\n",
    "import time\n",
    "import math\n",
    "import numpy as np\n",
    "\n",
    "df = pd.read_csv(\"data.csv\")\n",
    "# df = df[df.bravais_lattice.isin([\"cF\", \"cI\"])]\n",
    "features = df[[a for a in df.columns if \"y\" in a]]\n",
    "labels = df.loc[:, \"bravais_lattice\"]\n",
    "labelMap =labels.drop_duplicates().reset_index(drop=True)\n",
    "for ind in labelMap.index: \n",
    "    labels = labels.replace(labelMap.loc[ind], ind)\n",
    "    \n",
    "encoder = LabelEncoder()\n",
    "encodedLabels = encoder.fit_transform(labels)\n",
    "\n",
    "X_train, X_test, y_train, y_test = train_test_split(features,\n",
    "                                                    encodedLabels,\n",
    "                                                    test_size=0.2,\n",
    "                                                    random_state=42)"
   ]
  },
  {
   "cell_type": "code",
   "execution_count": 5,
   "metadata": {},
   "outputs": [],
   "source": [
    "from sklearn.ensemble import RandomForestRegressor\n",
    "mod = RandomForestRegressor(n_estimators=16, \n",
    "                            random_state = 0, \n",
    "                            max_features  = 90,\n",
    "                            verbose = 2,\n",
    "                            n_jobs=16)"
   ]
  },
  {
   "cell_type": "code",
   "execution_count": 6,
   "metadata": {
    "collapsed": true,
    "jupyter": {
     "outputs_hidden": true
    }
   },
   "outputs": [
    {
     "name": "stderr",
     "output_type": "stream",
     "text": [
      "[Parallel(n_jobs=16)]: Using backend ThreadingBackend with 16 concurrent workers.\n"
     ]
    },
    {
     "name": "stdout",
     "output_type": "stream",
     "text": [
      "building tree 1 of 16building tree 2 of 16building tree 3 of 16building tree 4 of 16\n",
      "building tree 5 of 16\n",
      "building tree 6 of 16\n",
      "building tree 7 of 16\n",
      "building tree 8 of 16building tree 9 of 16\n",
      "building tree 10 of 16\n",
      "building tree 11 of 16building tree 12 of 16\n",
      "\n",
      "\n",
      "building tree 13 of 16\n",
      "building tree 14 of 16\n",
      "building tree 15 of 16\n",
      "building tree 16 of 16\n",
      "\n",
      "\n",
      "\n"
     ]
    },
    {
     "name": "stderr",
     "output_type": "stream",
     "text": [
      "[Parallel(n_jobs=16)]: Done   3 out of  16 | elapsed:    3.4s remaining:   14.8s\n",
      "[Parallel(n_jobs=16)]: Done  12 out of  16 | elapsed:    3.7s remaining:    1.2s\n",
      "[Parallel(n_jobs=16)]: Done  16 out of  16 | elapsed:    3.9s finished\n",
      "[Parallel(n_jobs=16)]: Using backend LokyBackend with 16 concurrent workers.\n",
      "[Parallel(n_jobs=16)]: Done   3 out of  16 | elapsed:    3.4s remaining:   14.9s\n",
      "[Parallel(n_jobs=16)]: Done  12 out of  16 | elapsed:    3.8s remaining:    1.3s\n",
      "[Parallel(n_jobs=16)]: Done  16 out of  16 | elapsed:    4.0s finished\n",
      "[Parallel(n_jobs=16)]: Using backend ThreadingBackend with 16 concurrent workers.\n",
      "[Parallel(n_jobs=16)]: Done   3 out of  16 | elapsed:    0.0s remaining:    0.0s\n",
      "[Parallel(n_jobs=16)]: Done  12 out of  16 | elapsed:    0.0s remaining:    0.0s\n",
      "[Parallel(n_jobs=16)]: Done  16 out of  16 | elapsed:    0.0s finished\n",
      "[Parallel(n_jobs=16)]: Using backend LokyBackend with 16 concurrent workers.\n",
      "[Parallel(n_jobs=16)]: Done   3 out of  16 | elapsed:    2.8s remaining:   12.1s\n",
      "[Parallel(n_jobs=16)]: Done  12 out of  16 | elapsed:    3.0s remaining:    1.0s\n",
      "[Parallel(n_jobs=16)]: Done  16 out of  16 | elapsed:    3.1s finished\n",
      "[Parallel(n_jobs=16)]: Using backend ThreadingBackend with 16 concurrent workers.\n",
      "[Parallel(n_jobs=16)]: Done   3 out of  16 | elapsed:    0.0s remaining:    0.0s\n",
      "[Parallel(n_jobs=16)]: Done  12 out of  16 | elapsed:    0.0s remaining:    0.0s\n",
      "[Parallel(n_jobs=16)]: Done  16 out of  16 | elapsed:    0.0s finished\n",
      "[Parallel(n_jobs=16)]: Using backend LokyBackend with 16 concurrent workers.\n",
      "[Parallel(n_jobs=16)]: Done   3 out of  16 | elapsed:    2.7s remaining:   11.6s\n",
      "[Parallel(n_jobs=16)]: Done  12 out of  16 | elapsed:    2.9s remaining:    1.0s\n",
      "[Parallel(n_jobs=16)]: Done  16 out of  16 | elapsed:    3.0s finished\n",
      "[Parallel(n_jobs=16)]: Using backend ThreadingBackend with 16 concurrent workers.\n",
      "[Parallel(n_jobs=16)]: Done   3 out of  16 | elapsed:    0.0s remaining:    0.0s\n",
      "[Parallel(n_jobs=16)]: Done  12 out of  16 | elapsed:    0.0s remaining:    0.0s\n",
      "[Parallel(n_jobs=16)]: Done  16 out of  16 | elapsed:    0.0s finished\n",
      "[Parallel(n_jobs=16)]: Using backend LokyBackend with 16 concurrent workers.\n",
      "[Parallel(n_jobs=16)]: Done   3 out of  16 | elapsed:    2.7s remaining:   11.9s\n",
      "[Parallel(n_jobs=16)]: Done  12 out of  16 | elapsed:    2.9s remaining:    1.0s\n",
      "[Parallel(n_jobs=16)]: Done  16 out of  16 | elapsed:    3.1s finished\n",
      "[Parallel(n_jobs=16)]: Using backend ThreadingBackend with 16 concurrent workers.\n",
      "[Parallel(n_jobs=16)]: Done   3 out of  16 | elapsed:    0.0s remaining:    0.0s\n",
      "[Parallel(n_jobs=16)]: Done  12 out of  16 | elapsed:    0.0s remaining:    0.0s\n",
      "[Parallel(n_jobs=16)]: Done  16 out of  16 | elapsed:    0.0s finished\n",
      "[Parallel(n_jobs=16)]: Using backend LokyBackend with 16 concurrent workers.\n",
      "[Parallel(n_jobs=16)]: Done   3 out of  16 | elapsed:    2.7s remaining:   11.6s\n",
      "[Parallel(n_jobs=16)]: Done  12 out of  16 | elapsed:    2.9s remaining:    1.0s\n",
      "[Parallel(n_jobs=16)]: Done  16 out of  16 | elapsed:    3.1s finished\n",
      "[Parallel(n_jobs=16)]: Using backend ThreadingBackend with 16 concurrent workers.\n",
      "[Parallel(n_jobs=16)]: Done   3 out of  16 | elapsed:    0.0s remaining:    0.0s\n",
      "[Parallel(n_jobs=16)]: Done  12 out of  16 | elapsed:    0.0s remaining:    0.0s\n",
      "[Parallel(n_jobs=16)]: Done  16 out of  16 | elapsed:    0.0s finished\n",
      "[Parallel(n_jobs=16)]: Using backend LokyBackend with 16 concurrent workers.\n",
      "[Parallel(n_jobs=16)]: Done   3 out of  16 | elapsed:    2.7s remaining:   11.6s\n",
      "[Parallel(n_jobs=16)]: Done  12 out of  16 | elapsed:    2.8s remaining:    0.9s\n",
      "[Parallel(n_jobs=16)]: Done  16 out of  16 | elapsed:    3.0s finished\n",
      "[Parallel(n_jobs=16)]: Using backend ThreadingBackend with 16 concurrent workers.\n",
      "[Parallel(n_jobs=16)]: Done   3 out of  16 | elapsed:    0.0s remaining:    0.0s\n",
      "[Parallel(n_jobs=16)]: Done  12 out of  16 | elapsed:    0.0s remaining:    0.0s\n",
      "[Parallel(n_jobs=16)]: Done  16 out of  16 | elapsed:    0.0s finished\n",
      "[Parallel(n_jobs=16)]: Using backend LokyBackend with 16 concurrent workers.\n",
      "[Parallel(n_jobs=16)]: Done   3 out of  16 | elapsed:    2.6s remaining:   11.3s\n",
      "[Parallel(n_jobs=16)]: Done  12 out of  16 | elapsed:    2.8s remaining:    0.9s\n",
      "[Parallel(n_jobs=16)]: Done  16 out of  16 | elapsed:    3.1s finished\n",
      "[Parallel(n_jobs=16)]: Using backend ThreadingBackend with 16 concurrent workers.\n",
      "[Parallel(n_jobs=16)]: Done   3 out of  16 | elapsed:    0.0s remaining:    0.0s\n",
      "[Parallel(n_jobs=16)]: Done  12 out of  16 | elapsed:    0.0s remaining:    0.0s\n",
      "[Parallel(n_jobs=16)]: Done  16 out of  16 | elapsed:    0.0s finished\n",
      "[Parallel(n_jobs=16)]: Using backend LokyBackend with 16 concurrent workers.\n",
      "[Parallel(n_jobs=16)]: Done   3 out of  16 | elapsed:    2.7s remaining:   11.5s\n",
      "[Parallel(n_jobs=16)]: Done  12 out of  16 | elapsed:    2.9s remaining:    1.0s\n",
      "[Parallel(n_jobs=16)]: Done  16 out of  16 | elapsed:    3.0s finished\n",
      "[Parallel(n_jobs=16)]: Using backend ThreadingBackend with 16 concurrent workers.\n",
      "[Parallel(n_jobs=16)]: Done   3 out of  16 | elapsed:    0.0s remaining:    0.0s\n",
      "[Parallel(n_jobs=16)]: Done  12 out of  16 | elapsed:    0.0s remaining:    0.0s\n",
      "[Parallel(n_jobs=16)]: Done  16 out of  16 | elapsed:    0.0s finished\n",
      "[Parallel(n_jobs=16)]: Using backend LokyBackend with 16 concurrent workers.\n",
      "[Parallel(n_jobs=16)]: Done   3 out of  16 | elapsed:    2.7s remaining:   11.6s\n",
      "[Parallel(n_jobs=16)]: Done  12 out of  16 | elapsed:    2.9s remaining:    1.0s\n",
      "[Parallel(n_jobs=16)]: Done  16 out of  16 | elapsed:    3.0s finished\n",
      "[Parallel(n_jobs=16)]: Using backend ThreadingBackend with 16 concurrent workers.\n",
      "[Parallel(n_jobs=16)]: Done   3 out of  16 | elapsed:    0.0s remaining:    0.0s\n",
      "[Parallel(n_jobs=16)]: Done  12 out of  16 | elapsed:    0.0s remaining:    0.0s\n",
      "[Parallel(n_jobs=16)]: Done  16 out of  16 | elapsed:    0.0s finished\n",
      "[Parallel(n_jobs=16)]: Using backend LokyBackend with 16 concurrent workers.\n",
      "[Parallel(n_jobs=16)]: Done   3 out of  16 | elapsed:    2.7s remaining:   11.6s\n",
      "[Parallel(n_jobs=16)]: Done  12 out of  16 | elapsed:    2.8s remaining:    0.9s\n",
      "[Parallel(n_jobs=16)]: Done  16 out of  16 | elapsed:    2.9s finished\n",
      "[Parallel(n_jobs=16)]: Using backend ThreadingBackend with 16 concurrent workers.\n",
      "[Parallel(n_jobs=16)]: Done   3 out of  16 | elapsed:    0.0s remaining:    0.0s\n",
      "[Parallel(n_jobs=16)]: Done  12 out of  16 | elapsed:    0.0s remaining:    0.0s\n",
      "[Parallel(n_jobs=16)]: Done  16 out of  16 | elapsed:    0.0s finished\n"
     ]
    },
    {
     "data": {
      "text/plain": [
       "array([ -9.93304038, -10.37985566,  -9.92182595,  -9.73974098,\n",
       "       -10.23759342,  -9.62249276,  -9.92867036,  -9.84843166,\n",
       "        -9.95671361,  -9.75422739])"
      ]
     },
     "execution_count": 6,
     "metadata": {},
     "output_type": "execute_result"
    }
   ],
   "source": [
    "from sklearn.model_selection import cross_val_score\n",
    "mod.fit(X_train, to_categorical(y_train))\n",
    "cross_val_score(mod, X_train, y_train, scoring=\"neg_mean_squared_error\", cv = 10)"
   ]
  },
  {
   "cell_type": "code",
   "execution_count": 7,
   "metadata": {},
   "outputs": [
    {
     "name": "stderr",
     "output_type": "stream",
     "text": [
      "[Parallel(n_jobs=16)]: Using backend ThreadingBackend with 16 concurrent workers.\n",
      "[Parallel(n_jobs=16)]: Done   3 out of  16 | elapsed:    0.0s remaining:    0.0s\n",
      "[Parallel(n_jobs=16)]: Done  12 out of  16 | elapsed:    0.0s remaining:    0.0s\n",
      "[Parallel(n_jobs=16)]: Done  16 out of  16 | elapsed:    0.0s finished\n"
     ]
    },
    {
     "data": {
      "text/plain": [
       "<matplotlib.axes._subplots.AxesSubplot at 0x7fd846fabd68>"
      ]
     },
     "execution_count": 7,
     "metadata": {},
     "output_type": "execute_result"
    },
    {
     "data": {
      "image/png": "[encoded data removed]",
      "text/plain": [
       "<Figure size 720x720 with 2 Axes>"
      ]
     },
     "metadata": {
      "needs_background": "light"
     },
     "output_type": "display_data"
    }
   ],
   "source": [
    "from sklearn.metrics import confusion_matrix\n",
    "import matplotlib.pyplot as plt\n",
    "import seaborn as sns\n",
    "res = mod.predict(X_test)\n",
    "y_pred = np.argmax(res, 1)\n",
    "cm = confusion_matrix(y_pred, y_test)\n",
    "np.fill_diagonal(cm, 0)\n",
    "plt.figure(figsize=(10,10))\n",
    "sns.heatmap(cm)"
   ]
  },
  {
   "cell_type": "markdown",
   "metadata": {},
   "source": [
    "### Testing a secondary classification w/ same params as origional \n",
    "testing on subset that had high error rate.\n",
    "using same regressor params\n",
    "\n",
    "Conclusion: \n",
    "\n",
    "    error rate close to .5 (random guess)\n",
    "    to much overlap to determine with higher accuracy\n",
    "    \n",
    "    Generally favors 0 over 6, check heat map with out setting diag to 0"
   ]
  },
  {
   "cell_type": "code",
   "execution_count": 207,
   "metadata": {},
   "outputs": [],
   "source": [
    "sixZeroSubset = X_train.join(pd.Series(y_train, name=\"labels\")).reset_index(drop=True)\n",
    "sixZeroSubset = sixZeroSubset[(sixZeroSubset[\"labels\"] == 10) | (sixZeroSubset[\"labels\"] == 6)]\n",
    "\n",
    "sixZeroSubset_test = X_test.join(pd.Series(y_test, name=\"labels\")).reset_index(drop=True)\n",
    "sixZeroSubset_test = sixZeroSubset_test[(sixZeroSubset_test[\"labels\"] == 10) | (sixZeroSubset_test[\"labels\"] == 6)]\n",
    "\n",
    "sixZeroSubset[\"labels\"] = sixZeroSubset[\"labels\"].replace(6, 1).replace(10, 0)\n",
    "sixZeroSubset_test[\"labels\"] = sixZeroSubset_test[\"labels\"].replace(6, 1).replace(10, 0)\n",
    "\n",
    "X_sixZero = sixZeroSubset.drop(columns=[\"labels\"])\n",
    "X_sixZero = X_sixZero[list(X_sixZero.columns)[:]].to_numpy()\n",
    "y_sixZero = sixZeroSubset.labels.to_numpy()\n",
    "X_sixZero_test= sixZeroSubset_test.drop(columns=[\"labels\"])\n",
    "X_sixZero_test = X_sixZero_test[list(X_sixZero_test.columns)[:]].to_numpy()\n",
    "y_sixZero_test = sixZeroSubset_test.labels.to_numpy()\n"
   ]
  },
  {
   "cell_type": "code",
   "execution_count": 208,
   "metadata": {
    "collapsed": true,
    "jupyter": {
     "outputs_hidden": true
    }
   },
   "outputs": [
    {
     "name": "stderr",
     "output_type": "stream",
     "text": [
      "[Parallel(n_jobs=16)]: Using backend ThreadingBackend with 16 concurrent workers.\n"
     ]
    },
    {
     "name": "stdout",
     "output_type": "stream",
     "text": [
      "building tree 1 of 16building tree 2 of 16\n",
      "building tree 3 of 16\n",
      "building tree 4 of 16\n",
      "building tree 5 of 16\n",
      "building tree 6 of 16\n",
      "building tree 7 of 16building tree 8 of 16building tree 9 of 16\n",
      "building tree 10 of 16building tree 11 of 16\n",
      "building tree 12 of 16\n",
      "building tree 13 of 16building tree 14 of 16\n",
      "\n",
      "\n",
      "building tree 15 of 16building tree 16 of 16\n",
      "\n",
      "\n",
      "\n",
      "\n"
     ]
    },
    {
     "name": "stderr",
     "output_type": "stream",
     "text": [
      "[Parallel(n_jobs=16)]: Done   3 out of  16 | elapsed:    0.2s remaining:    1.1s\n",
      "[Parallel(n_jobs=16)]: Done  12 out of  16 | elapsed:    0.3s remaining:    0.1s\n",
      "[Parallel(n_jobs=16)]: Done  16 out of  16 | elapsed:    0.4s finished\n",
      "[Parallel(n_jobs=16)]: Using backend LokyBackend with 16 concurrent workers.\n",
      "[Parallel(n_jobs=16)]: Done   3 out of  16 | elapsed:    0.2s remaining:    0.9s\n",
      "[Parallel(n_jobs=16)]: Done  12 out of  16 | elapsed:    0.2s remaining:    0.1s\n",
      "[Parallel(n_jobs=16)]: Done  16 out of  16 | elapsed:    0.3s finished\n",
      "[Parallel(n_jobs=16)]: Using backend ThreadingBackend with 16 concurrent workers.\n",
      "[Parallel(n_jobs=16)]: Done   3 out of  16 | elapsed:    0.0s remaining:    0.0s\n",
      "[Parallel(n_jobs=16)]: Done  12 out of  16 | elapsed:    0.0s remaining:    0.0s\n",
      "[Parallel(n_jobs=16)]: Done  16 out of  16 | elapsed:    0.0s finished\n",
      "[Parallel(n_jobs=16)]: Using backend LokyBackend with 16 concurrent workers.\n",
      "[Parallel(n_jobs=16)]: Done   3 out of  16 | elapsed:    0.2s remaining:    0.9s\n",
      "[Parallel(n_jobs=16)]: Done  12 out of  16 | elapsed:    0.2s remaining:    0.1s\n",
      "[Parallel(n_jobs=16)]: Done  16 out of  16 | elapsed:    0.3s finished\n",
      "[Parallel(n_jobs=16)]: Using backend ThreadingBackend with 16 concurrent workers.\n",
      "[Parallel(n_jobs=16)]: Done   3 out of  16 | elapsed:    0.0s remaining:    0.0s\n",
      "[Parallel(n_jobs=16)]: Done  12 out of  16 | elapsed:    0.0s remaining:    0.0s\n",
      "[Parallel(n_jobs=16)]: Done  16 out of  16 | elapsed:    0.0s finished\n",
      "[Parallel(n_jobs=16)]: Using backend LokyBackend with 16 concurrent workers.\n",
      "[Parallel(n_jobs=16)]: Done   3 out of  16 | elapsed:    0.2s remaining:    1.0s\n",
      "[Parallel(n_jobs=16)]: Done  12 out of  16 | elapsed:    0.3s remaining:    0.1s\n",
      "[Parallel(n_jobs=16)]: Done  16 out of  16 | elapsed:    0.3s finished\n",
      "[Parallel(n_jobs=16)]: Using backend ThreadingBackend with 16 concurrent workers.\n",
      "[Parallel(n_jobs=16)]: Done   3 out of  16 | elapsed:    0.0s remaining:    0.0s\n",
      "[Parallel(n_jobs=16)]: Done  12 out of  16 | elapsed:    0.0s remaining:    0.0s\n",
      "[Parallel(n_jobs=16)]: Done  16 out of  16 | elapsed:    0.0s finished\n",
      "[Parallel(n_jobs=16)]: Using backend LokyBackend with 16 concurrent workers.\n",
      "[Parallel(n_jobs=16)]: Done   3 out of  16 | elapsed:    0.2s remaining:    0.9s\n",
      "[Parallel(n_jobs=16)]: Done  12 out of  16 | elapsed:    0.2s remaining:    0.1s\n",
      "[Parallel(n_jobs=16)]: Done  16 out of  16 | elapsed:    0.3s finished\n",
      "[Parallel(n_jobs=16)]: Using backend ThreadingBackend with 16 concurrent workers.\n",
      "[Parallel(n_jobs=16)]: Done   3 out of  16 | elapsed:    0.0s remaining:    0.0s\n",
      "[Parallel(n_jobs=16)]: Done  12 out of  16 | elapsed:    0.0s remaining:    0.0s\n",
      "[Parallel(n_jobs=16)]: Done  16 out of  16 | elapsed:    0.0s finished\n",
      "[Parallel(n_jobs=16)]: Using backend LokyBackend with 16 concurrent workers.\n",
      "[Parallel(n_jobs=16)]: Done   3 out of  16 | elapsed:    0.2s remaining:    1.0s\n",
      "[Parallel(n_jobs=16)]: Done  12 out of  16 | elapsed:    0.3s remaining:    0.1s\n",
      "[Parallel(n_jobs=16)]: Done  16 out of  16 | elapsed:    0.3s finished\n",
      "[Parallel(n_jobs=16)]: Using backend ThreadingBackend with 16 concurrent workers.\n",
      "[Parallel(n_jobs=16)]: Done   3 out of  16 | elapsed:    0.0s remaining:    0.0s\n",
      "[Parallel(n_jobs=16)]: Done  12 out of  16 | elapsed:    0.0s remaining:    0.0s\n",
      "[Parallel(n_jobs=16)]: Done  16 out of  16 | elapsed:    0.0s finished\n",
      "[Parallel(n_jobs=16)]: Using backend LokyBackend with 16 concurrent workers.\n",
      "[Parallel(n_jobs=16)]: Done   3 out of  16 | elapsed:    0.2s remaining:    0.9s\n",
      "[Parallel(n_jobs=16)]: Done  12 out of  16 | elapsed:    0.2s remaining:    0.1s\n",
      "[Parallel(n_jobs=16)]: Done  16 out of  16 | elapsed:    0.3s finished\n",
      "[Parallel(n_jobs=16)]: Using backend ThreadingBackend with 16 concurrent workers.\n",
      "[Parallel(n_jobs=16)]: Done   3 out of  16 | elapsed:    0.0s remaining:    0.0s\n",
      "[Parallel(n_jobs=16)]: Done  12 out of  16 | elapsed:    0.0s remaining:    0.0s\n",
      "[Parallel(n_jobs=16)]: Done  16 out of  16 | elapsed:    0.0s finished\n",
      "[Parallel(n_jobs=16)]: Using backend LokyBackend with 16 concurrent workers.\n",
      "[Parallel(n_jobs=16)]: Done   3 out of  16 | elapsed:    0.2s remaining:    0.9s\n",
      "[Parallel(n_jobs=16)]: Done  12 out of  16 | elapsed:    0.2s remaining:    0.1s\n",
      "[Parallel(n_jobs=16)]: Done  16 out of  16 | elapsed:    0.3s finished\n",
      "[Parallel(n_jobs=16)]: Using backend ThreadingBackend with 16 concurrent workers.\n",
      "[Parallel(n_jobs=16)]: Done   3 out of  16 | elapsed:    0.0s remaining:    0.0s\n",
      "[Parallel(n_jobs=16)]: Done  12 out of  16 | elapsed:    0.0s remaining:    0.0s\n",
      "[Parallel(n_jobs=16)]: Done  16 out of  16 | elapsed:    0.0s finished\n",
      "[Parallel(n_jobs=16)]: Using backend LokyBackend with 16 concurrent workers.\n",
      "[Parallel(n_jobs=16)]: Done   3 out of  16 | elapsed:    0.2s remaining:    0.9s\n",
      "[Parallel(n_jobs=16)]: Done  12 out of  16 | elapsed:    0.2s remaining:    0.1s\n",
      "[Parallel(n_jobs=16)]: Done  16 out of  16 | elapsed:    0.3s finished\n",
      "[Parallel(n_jobs=16)]: Using backend ThreadingBackend with 16 concurrent workers.\n",
      "[Parallel(n_jobs=16)]: Done   3 out of  16 | elapsed:    0.0s remaining:    0.0s\n",
      "[Parallel(n_jobs=16)]: Done  12 out of  16 | elapsed:    0.0s remaining:    0.0s\n",
      "[Parallel(n_jobs=16)]: Done  16 out of  16 | elapsed:    0.0s finished\n",
      "[Parallel(n_jobs=16)]: Using backend LokyBackend with 16 concurrent workers.\n",
      "[Parallel(n_jobs=16)]: Done   3 out of  16 | elapsed:    0.2s remaining:    1.0s\n",
      "[Parallel(n_jobs=16)]: Done  12 out of  16 | elapsed:    0.2s remaining:    0.1s\n",
      "[Parallel(n_jobs=16)]: Done  16 out of  16 | elapsed:    0.3s finished\n",
      "[Parallel(n_jobs=16)]: Using backend ThreadingBackend with 16 concurrent workers.\n",
      "[Parallel(n_jobs=16)]: Done   3 out of  16 | elapsed:    0.0s remaining:    0.0s\n",
      "[Parallel(n_jobs=16)]: Done  12 out of  16 | elapsed:    0.0s remaining:    0.0s\n",
      "[Parallel(n_jobs=16)]: Done  16 out of  16 | elapsed:    0.0s finished\n",
      "[Parallel(n_jobs=16)]: Using backend LokyBackend with 16 concurrent workers.\n",
      "[Parallel(n_jobs=16)]: Done   3 out of  16 | elapsed:    0.2s remaining:    0.9s\n",
      "[Parallel(n_jobs=16)]: Done  12 out of  16 | elapsed:    0.2s remaining:    0.1s\n",
      "[Parallel(n_jobs=16)]: Done  16 out of  16 | elapsed:    0.3s finished\n",
      "[Parallel(n_jobs=16)]: Using backend ThreadingBackend with 16 concurrent workers.\n",
      "[Parallel(n_jobs=16)]: Done   3 out of  16 | elapsed:    0.0s remaining:    0.0s\n",
      "[Parallel(n_jobs=16)]: Done  12 out of  16 | elapsed:    0.0s remaining:    0.0s\n",
      "[Parallel(n_jobs=16)]: Done  16 out of  16 | elapsed:    0.0s finished\n"
     ]
    },
    {
     "data": {
      "text/plain": [
       "array([-0.27286418, -0.26875153, -0.27822457, -0.26787684, -0.27485447,\n",
       "       -0.28364737, -0.26598499, -0.27228094, -0.26232384, -0.26938572])"
      ]
     },
     "execution_count": 208,
     "metadata": {},
     "output_type": "execute_result"
    }
   ],
   "source": [
    "sixZeroMod = RandomForestRegressor(n_estimators=16, \n",
    "                            random_state = 0, \n",
    "                            max_features  = 75,\n",
    "                            verbose = 2,\n",
    "                            n_jobs=16)\n",
    "sixZeroMod.fit(X_sixZero, to_categorical(y_sixZero))\n",
    "cross_val_score(sixZeroMod, X_sixZero, y_sixZero, scoring=\"neg_mean_squared_error\", cv = 10)"
   ]
  },
  {
   "cell_type": "code",
   "execution_count": 209,
   "metadata": {},
   "outputs": [
    {
     "name": "stderr",
     "output_type": "stream",
     "text": [
      "[Parallel(n_jobs=16)]: Using backend ThreadingBackend with 16 concurrent workers.\n",
      "[Parallel(n_jobs=16)]: Done   3 out of  16 | elapsed:    0.0s remaining:    0.0s\n",
      "[Parallel(n_jobs=16)]: Done  12 out of  16 | elapsed:    0.0s remaining:    0.0s\n",
      "[Parallel(n_jobs=16)]: Done  16 out of  16 | elapsed:    0.0s finished\n"
     ]
    },
    {
     "name": "stdout",
     "output_type": "stream",
     "text": [
      "0.47592067988668557\n"
     ]
    },
    {
     "data": {
      "image/png": "[encoded data removed]",
      "text/plain": [
       "<Figure size 720x720 with 2 Axes>"
      ]
     },
     "metadata": {
      "needs_background": "light"
     },
     "output_type": "display_data"
    }
   ],
   "source": [
    "sixZeroPred = sixZeroMod.predict(X_sixZero_test)\n",
    "sixZeroPred = np.argmax(sixZeroPred, 1)\n",
    "\n",
    "cm = confusion_matrix(sixZeroPred, y_sixZero_test)\n",
    "# np.fill_diagonal(cm, 0)\n",
    "plt.figure(figsize=(10,10))\n",
    "sns.heatmap(cm)\n",
    "c, t = 0,0\n",
    "for p, a in zip(sixZeroPred, y_sixZero_test):\n",
    "    if p==a: \n",
    "        c +=1 \n",
    "    t += 1\n",
    "print(c /t)"
   ]
  },
  {
   "cell_type": "markdown",
   "metadata": {},
   "source": [
    "## Testing ML using Tensorflow\n",
    "Using data selected from above test"
   ]
  },
  {
   "cell_type": "code",
   "execution_count": 210,
   "metadata": {},
   "outputs": [],
   "source": [
    "from keras.models import Model\n",
    "from keras.layers.convolutional import Conv1D, MaxPooling1D\n",
    "from keras.layers.core import  Activation, Dropout, Reshape, RepeatVector\n",
    "from keras.layers import Input, Flatten, Embedding, Concatenate, LSTM,GlobalAveragePooling1D, Dense\n",
    "from keras.layers.merge import add, multiply\n",
    "from keras.regularizers import l2\n",
    "from keras.initializers import TruncatedNormal\n",
    "from batchnorm import BatchNormalization\n",
    "from keras.utils import to_categorical\n",
    "from sklearn.model_selection import train_test_split\n",
    "from sklearn.preprocessing import LabelEncoder, OneHotEncoder\n",
    "import keras \n",
    "import tensorflow as tf"
   ]
  },
  {
   "cell_type": "code",
   "execution_count": 228,
   "metadata": {},
   "outputs": [
    {
     "name": "stdout",
     "output_type": "stream",
     "text": [
      "Model: \"sequential_14\"\n",
      "_________________________________________________________________\n",
      "Layer (type)                 Output Shape              Param #   \n",
      "=================================================================\n",
      "dense_92 (Dense)             (None, 128)               23168     \n",
      "_________________________________________________________________\n",
      "dense_93 (Dense)             (None, 64)                8256      \n",
      "_________________________________________________________________\n",
      "dense_94 (Dense)             (None, 32)                2080      \n",
      "_________________________________________________________________\n",
      "dense_95 (Dense)             (None, 2)                 66        \n",
      "=================================================================\n",
      "Total params: 33,570\n",
      "Trainable params: 33,570\n",
      "Non-trainable params: 0\n",
      "_________________________________________________________________\n"
     ]
    }
   ],
   "source": [
    "model = keras.Sequential()\n",
    "model.add(Dense(128, activation='relu', input_shape=(len(X_sixZero[0]),)))\n",
    "model.add(Dense(64, activation='tanh'))\n",
    "model.add(Dense(32, activation='sigmoid'))\n",
    "model.add(Dense(2, activation='softmax'))\n",
    "\n",
    "model.compile(loss='mse', optimizer=\"nadam\", metrics=['accuracy']) #loss='binary_crossentropy', \n",
    "model.summary()"
   ]
  },
  {
   "cell_type": "code",
   "execution_count": 229,
   "metadata": {},
   "outputs": [
    {
     "name": "stdout",
     "output_type": "stream",
     "text": [
      "Epoch 1/10\n",
      "5102/5102 [==============================] - 0s 79us/step - loss: 0.2521 - accuracy: 0.4861\n",
      "Epoch 2/10\n",
      "5102/5102 [==============================] - 0s 33us/step - loss: 0.2487 - accuracy: 0.5321\n",
      "Epoch 3/10\n",
      "5102/5102 [==============================] - 0s 36us/step - loss: 0.2446 - accuracy: 0.5549\n",
      "Epoch 4/10\n",
      "5102/5102 [==============================] - 0s 34us/step - loss: 0.2371 - accuracy: 0.5978\n",
      "Epoch 5/10\n",
      "5102/5102 [==============================] - 0s 35us/step - loss: 0.2236 - accuracy: 0.6411\n",
      "Epoch 6/10\n",
      "5102/5102 [==============================] - 0s 34us/step - loss: 0.2017 - accuracy: 0.6960\n",
      "Epoch 7/10\n",
      "5102/5102 [==============================] - 0s 36us/step - loss: 0.1769 - accuracy: 0.7417\n",
      "Epoch 8/10\n",
      "5102/5102 [==============================] - 0s 36us/step - loss: 0.1525 - accuracy: 0.7842\n",
      "Epoch 9/10\n",
      "5102/5102 [==============================] - 0s 35us/step - loss: 0.1321 - accuracy: 0.8199\n",
      "Epoch 10/10\n",
      "5102/5102 [==============================] - 0s 33us/step - loss: 0.1114 - accuracy: 0.8538\n"
     ]
    },
    {
     "data": {
      "text/plain": [
       "<keras.callbacks.callbacks.History at 0x7fd7c805ae10>"
      ]
     },
     "execution_count": 229,
     "metadata": {},
     "output_type": "execute_result"
    }
   ],
   "source": [
    "model.fit(X_sixZero, to_categorical(y_sixZero), epochs=10)"
   ]
  },
  {
   "cell_type": "code",
   "execution_count": 230,
   "metadata": {},
   "outputs": [
    {
     "data": {
      "text/plain": [
       "0.5127478837966919"
      ]
     },
     "execution_count": 230,
     "metadata": {},
     "output_type": "execute_result"
    }
   ],
   "source": [
    "test_loss, test_acc = model.evaluate(X_sixZero_test, to_categorical(y_sixZero_test), verbose=2)\n",
    "test_acc"
   ]
  },
  {
   "cell_type": "code",
   "execution_count": 214,
   "metadata": {},
   "outputs": [
    {
     "name": "stdout",
     "output_type": "stream",
     "text": [
      "0.5637393767705382\n"
     ]
    },
    {
     "data": {
      "text/plain": [
       "<matplotlib.axes._subplots.AxesSubplot at 0x7fd7d0adb0f0>"
      ]
     },
     "execution_count": 214,
     "metadata": {},
     "output_type": "execute_result"
    },
    {
     "data": {
      "image/png": "[encoded data removed]",
      "text/plain": [
       "<Figure size 720x720 with 2 Axes>"
      ]
     },
     "metadata": {
      "needs_background": "light"
     },
     "output_type": "display_data"
    }
   ],
   "source": [
    "pred = model.predict(X_sixZero_test)\n",
    "pred = np.argmax(pred, 1)\n",
    "c, t = 0,0\n",
    "for p, a in zip(pred, y_sixZero_test):\n",
    "    if p==a: \n",
    "        c +=1 \n",
    "    t += 1\n",
    "print(c /t)\n",
    "\n",
    "\n",
    "cm = confusion_matrix(pred, y_sixZero_test)\n",
    "# np.fill_diagonal(cm, 0)\n",
    "plt.figure(figsize=(10,10))\n",
    "sns.heatmap(cm)"
   ]
  },
  {
   "cell_type": "code",
   "execution_count": 206,
   "metadata": {
    "collapsed": true,
    "jupyter": {
     "outputs_hidden": true
    }
   },
   "outputs": [
    {
     "data": {
      "text/plain": [
       "[<matplotlib.lines.Line2D at 0x7fd7da5c5518>]"
      ]
     },
     "execution_count": 206,
     "metadata": {},
     "output_type": "execute_result"
    },
    {
     "data": {
      "image/png": "[encoded data removed]",
      "text/plain": [
       "<Figure size 720x720 with 1 Axes>"
      ]
     },
     "metadata": {
      "needs_background": "light"
     },
     "output_type": "display_data"
    },
    {
     "data": {
      "image/png": "[encoded data removed]",
      "text/plain": [
       "<Figure size 720x720 with 1 Axes>"
      ]
     },
     "metadata": {
      "needs_background": "light"
     },
     "output_type": "display_data"
    }
   ],
   "source": [
    "\n",
    "zeros = sixZeroSubset[sixZeroSubset.labels ==  0].drop(columns=[\"labels\"])\n",
    "plt.figure(figsize=(10,10))\n",
    "plt.title(\"Zeros\")\n",
    "# for i in zeros.index:\n",
    "#     vals = zeros.loc[i, :].values\n",
    "vals = zeros.mean().values\n",
    "plt.plot(range(len(vals)), vals)\n",
    "\n",
    "sixs = sixZeroSubset[sixZeroSubset.labels ==  1].drop(columns=[\"labels\"])\n",
    "plt.figure(figsize=(10,10))\n",
    "vals = sixs.mean().values\n",
    "# plt.title(\"Sixs\")\n",
    "# for i in sixs.index:\n",
    "#     vals = sixs.loc[i, :].values\n",
    "plt.plot(range(len(vals)), vals)"
   ]
  },
  {
   "cell_type": "code",
   "execution_count": null,
   "metadata": {},
   "outputs": [],
   "source": [
    "test = zeros.mean().values\n",
    "test"
   ]
  },
  {
   "cell_type": "code",
   "execution_count": null,
   "metadata": {},
   "outputs": [],
   "source": []
  }
 ],
 "metadata": {
  "kernelspec": {
   "display_name": "Python 3",
   "language": "python",
   "name": "python3"
  },
  "language_info": {
   "codemirror_mode": {
    "name": "ipython",
    "version": 3
   },
   "file_extension": ".py",
   "mimetype": "text/x-python",
   "name": "python",
   "nbconvert_exporter": "python",
   "pygments_lexer": "ipython3",
   "version": "3.6.9"
  }
 },
 "nbformat": 4,
 "nbformat_minor": 4
}
