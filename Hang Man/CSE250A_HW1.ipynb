{
 "cells": [
  {
   "cell_type": "code",
   "execution_count": 175,
   "metadata": {},
   "outputs": [],
   "source": [
    "import pandas as pd\n",
    "import string\n",
    "from IPython.display import clear_output"
   ]
  },
  {
   "cell_type": "markdown",
   "metadata": {},
   "source": [
    "# Part A"
   ]
  },
  {
   "cell_type": "code",
   "execution_count": 70,
   "metadata": {},
   "outputs": [
    {
     "name": "stdout",
     "output_type": "stream",
     "text": [
      "Most Likely \n",
      "    words   count      prob\n",
      "0   THREE  273077  0.035627\n",
      "1   SEVEN  178842  0.023333\n",
      "2   EIGHT  165764  0.021626\n",
      "3   WOULD  159875  0.020858\n",
      "4   ABOUT  157448  0.020542\n",
      "5   THEIR  145434  0.018974\n",
      "6   WHICH  142146  0.018545\n",
      "7   AFTER  110102  0.014365\n",
      "8   FIRST  109957  0.014346\n",
      "9   FIFTY  106869  0.013943\n",
      "10  OTHER  106052  0.013836\n",
      "11  FORTY   94951  0.012388\n",
      "12  YEARS   88900  0.011598\n",
      "13  THERE   86502  0.011286\n",
      "14  SIXTY   73086  0.009535 \n",
      " ########################################\n",
      " Least Likely \n",
      "      words  count          prob\n",
      "6521  SERNA      7  9.132590e-07\n",
      "6522  TOCOR      7  9.132590e-07\n",
      "6523  NIAID      7  9.132590e-07\n",
      "6524  FABRI      7  9.132590e-07\n",
      "6525  PAXON      7  9.132590e-07\n",
      "6526  FOAMY      7  9.132590e-07\n",
      "6527  YALOM      7  9.132590e-07\n",
      "6528  CCAIR      7  9.132590e-07\n",
      "6529  CLEFT      7  9.132590e-07\n",
      "6530  MAPCO      6  7.827935e-07\n",
      "6531  CAIXA      6  7.827935e-07\n",
      "6532  OTTIS      6  7.827935e-07\n",
      "6533  TROUP      6  7.827935e-07\n",
      "6534  BOSAK      6  7.827935e-07\n"
     ]
    }
   ],
   "source": [
    "def getWords():\n",
    "    df = pd.read_csv(\"hw1_word_counts_05.txt\", \n",
    "                     sep = \" \", \n",
    "                     names=[\"words\", \"count\"])\n",
    "\n",
    "    df[\"prob\"] =  df[\"count\"] / df['count'].sum()\n",
    "    \n",
    "    df.sort_values(by=\"prob\", \n",
    "                   ascending=False, \n",
    "                   inplace=True)\n",
    "    df.reset_index(drop=True, \n",
    "                   inplace=True)\n",
    "    return df \n",
    "df = getWords()\n",
    "print(f\"Most Likely \\n{df.head(15).to_string()} \\n {'#' * 40 }\\n Least Likely \\n{df.tail(14).to_string()}\")"
   ]
  },
  {
   "cell_type": "markdown",
   "metadata": {},
   "source": [
    "# Part B"
   ]
  },
  {
   "cell_type": "code",
   "execution_count": 121,
   "metadata": {},
   "outputs": [],
   "source": [
    "def findBestLetter(df, guessed):\n",
    "    letters = [c for c in string.ascii_uppercase \n",
    "               if c not in guessed]\n",
    "    bestLetter = \"\"\n",
    "    bestProb = 0\n",
    "    for c in letters: \n",
    "        buff = df[\"count\"].sum()\n",
    "        buff2 = df[df.words.str.contains(c)][\"count\"].sum()\n",
    "        newProb = buff2 / buff\n",
    "        if newProb > bestProb: \n",
    "            bestLetter = c\n",
    "            bestProb = newProb\n",
    "    return bestLetter, bestProb\n",
    "        "
   ]
  },
  {
   "cell_type": "code",
   "execution_count": 211,
   "metadata": {},
   "outputs": [],
   "source": [
    "def startGame(word):\n",
    "    df = getWords()\n",
    "    guessed = []\n",
    "    dispWord = \"-\" * 5\n",
    "    while True: \n",
    "        # Word + letter Prediction\n",
    "        df[\"prob\"] = df[\"count\"] / df[\"count\"].sum()\n",
    "        bestWord = df.loc[0, \"words\"]\n",
    "        bestWordProb = df.loc[0, \"prob\"]\n",
    "        bestLetter, bestLetterProb = findBestLetter(df, guessed)\n",
    "\n",
    "        # Print Status\n",
    "        # clear_output(wait=False)\n",
    "        print(f\"{dispWord}\\n{'#' * 40}\")\n",
    "        print(f\"Guessed Letters:  {guessed}\")\n",
    "        print(f\"Best Word {bestWord}  Prob: {bestWordProb}\\nBest Letter {bestLetter}  Prob: {bestLetterProb}\")\n",
    "        \n",
    "        # Input\n",
    "        guess = input(\"Enter Letter: \").strip()\n",
    "        if guess == \"\": \n",
    "            break\n",
    "            \n",
    "        # Update word\n",
    "        guessed += [guess]\n",
    "        dispWord = \"\".join([c \n",
    "                            if c in guessed \n",
    "                            else \"-\" \n",
    "                            for c in word ])\n",
    "        if \"-\" not in dispWord: \n",
    "            print(\"Game Won\")\n",
    "            break\n",
    "            \n",
    "        # Next Letter\n",
    "        # regex for words matching what is shown on display \n",
    "        reStr = f\"[{''.join(c for c in string.ascii_uppercase if c not in guessed)}]\"\n",
    "        df = df[df.words.str.contains(dispWord.replace(\"-\",  reStr), regex=True)] \\\n",
    "                .sort_values(\"count\") \\\n",
    "                .reset_index(drop=True)\n",
    "\n"
   ]
  },
  {
   "cell_type": "code",
   "execution_count": 210,
   "metadata": {},
   "outputs": [
    {
     "name": "stdout",
     "output_type": "stream",
     "text": [
      "-----\n",
      "########################################\n",
      "Guessed Letters:  []\n",
      "Best Word THREE  Prob: 0.03562714868653127\n",
      "Best Letter E  Prob: 0.5394172389647974\n"
     ]
    },
    {
     "name": "stdin",
     "output_type": "stream",
     "text": [
      "Enter Letter:  A\n"
     ]
    },
    {
     "name": "stdout",
     "output_type": "stream",
     "text": [
      "-----\n",
      "########################################\n",
      "Guessed Letters:  ['A']\n",
      "Best Word TROUP  Prob: 1.1985801619401657e-06\n",
      "Best Letter E  Prob: 0.5583014361187737\n"
     ]
    },
    {
     "name": "stdin",
     "output_type": "stream",
     "text": [
      "Enter Letter:  I\n"
     ]
    },
    {
     "name": "stdout",
     "output_type": "stream",
     "text": [
      "-----\n",
      "########################################\n",
      "Guessed Letters:  ['A', 'I']\n",
      "Best Word TROUP  Prob: 1.987476908002675e-06\n",
      "Best Letter E  Prob: 0.6213518619180544\n"
     ]
    },
    {
     "name": "stdin",
     "output_type": "stream",
     "text": [
      "Enter Letter:  E\n"
     ]
    },
    {
     "name": "stdout",
     "output_type": "stream",
     "text": [
      "-----\n",
      "########################################\n",
      "Guessed Letters:  ['A', 'I', 'E']\n",
      "Best Word TROUP  Prob: 5.248875428439457e-06\n",
      "Best Letter O  Prob: 0.9039648255361289\n"
     ]
    },
    {
     "name": "stdin",
     "output_type": "stream",
     "text": [
      "Enter Letter:  \n"
     ]
    }
   ],
   "source": [
    "word = \"BOBBY\"\n",
    "startGame(word)"
   ]
  },
  {
   "cell_type": "code",
   "execution_count": 198,
   "metadata": {},
   "outputs": [
    {
     "name": "stdout",
     "output_type": "stream",
     "text": [
      "-----\n",
      "########################################\n",
      "Guessed Letters:  []\n",
      "Best Word THREE  Prob: 0.03562714868653127\n",
      "Best Letter E  Prob: 0.5394172389647974\n"
     ]
    },
    {
     "name": "stdin",
     "output_type": "stream",
     "text": [
      "Enter Letter:  A\n"
     ]
    },
    {
     "name": "stdout",
     "output_type": "stream",
     "text": [
      "A----\n",
      "########################################\n",
      "Guessed Letters:  ['A']\n",
      "Best Word ARNDT  Prob: 1.8173227201686474e-05\n",
      "Best Letter T  Prob: 0.5884127503362047\n"
     ]
    },
    {
     "name": "stdin",
     "output_type": "stream",
     "text": [
      "Enter Letter:  R\n"
     ]
    },
    {
     "name": "stdout",
     "output_type": "stream",
     "text": [
      "A---R\n",
      "########################################\n",
      "Guessed Letters:  ['A', 'R']\n",
      "Best Word ALPER  Prob: 0.00012080316849453366\n",
      "Best Letter T  Prob: 0.9816379183888309\n"
     ]
    },
    {
     "name": "stdin",
     "output_type": "stream",
     "text": [
      "Enter Letter:  E\n"
     ]
    },
    {
     "name": "stdout",
     "output_type": "stream",
     "text": [
      "A---R\n",
      "########################################\n",
      "Guessed Letters:  ['A', 'R', 'E']\n",
      "Best Word AMCOR  Prob: 0.0054487179487179484\n",
      "Best Letter O  Prob: 0.9913461538461539\n"
     ]
    },
    {
     "name": "stdin",
     "output_type": "stream",
     "text": [
      "Enter Letter:  \n"
     ]
    }
   ],
   "source": [
    "word = \"ACCOR\"\n",
    "startGame(word)"
   ]
  },
  {
   "cell_type": "code",
   "execution_count": 213,
   "metadata": {},
   "outputs": [
    {
     "name": "stdout",
     "output_type": "stream",
     "text": [
      "-----\n",
      "########################################\n",
      "Guessed Letters:  []\n",
      "Best Word THREE  Prob: 0.03562714868653127\n",
      "Best Letter E  Prob: 0.5394172389647974\n"
     ]
    },
    {
     "name": "stdin",
     "output_type": "stream",
     "text": [
      "Enter Letter:  D\n"
     ]
    },
    {
     "name": "stdout",
     "output_type": "stream",
     "text": [
      "D----\n",
      "########################################\n",
      "Guessed Letters:  ['D']\n",
      "Best Word DUBIN  Prob: 7.672241829062452e-05\n",
      "Best Letter E  Prob: 0.48147920822464324\n"
     ]
    },
    {
     "name": "stdin",
     "output_type": "stream",
     "text": [
      "Enter Letter:  I\n"
     ]
    },
    {
     "name": "stdout",
     "output_type": "stream",
     "text": [
      "D--I-\n",
      "########################################\n",
      "Guessed Letters:  ['D', 'I']\n",
      "Best Word DUBIN  Prob: 0.0018601190476190475\n",
      "Best Letter A  Prob: 0.8206845238095238\n"
     ]
    },
    {
     "name": "stdin",
     "output_type": "stream",
     "text": [
      "Enter Letter:  A\n"
     ]
    },
    {
     "name": "stdout",
     "output_type": "stream",
     "text": [
      "D--I-\n",
      "########################################\n",
      "Guessed Letters:  ['D', 'I', 'A']\n",
      "Best Word DUBIN  Prob: 0.01037344398340249\n",
      "Best Letter E  Prob: 0.7520746887966805\n"
     ]
    },
    {
     "name": "stdin",
     "output_type": "stream",
     "text": [
      "Enter Letter:  \n"
     ]
    }
   ],
   "source": [
    "word = \"DENIM\"\n",
    "startGame(word)"
   ]
  },
  {
   "cell_type": "code",
   "execution_count": 214,
   "metadata": {},
   "outputs": [
    {
     "name": "stdout",
     "output_type": "stream",
     "text": [
      "-----\n",
      "########################################\n",
      "Guessed Letters:  []\n",
      "Best Word THREE  Prob: 0.03562714868653127\n",
      "Best Letter E  Prob: 0.5394172389647974\n"
     ]
    },
    {
     "name": "stdin",
     "output_type": "stream",
     "text": [
      "Enter Letter:  U\n"
     ]
    },
    {
     "name": "stdout",
     "output_type": "stream",
     "text": [
      "-U---\n",
      "########################################\n",
      "Guessed Letters:  ['U']\n",
      "Best Word SUBHI  Prob: 3.906612429864099e-05\n",
      "Best Letter E  Prob: 0.3730521874587974\n"
     ]
    },
    {
     "name": "stdin",
     "output_type": "stream",
     "text": [
      "Enter Letter:  A\n"
     ]
    },
    {
     "name": "stdout",
     "output_type": "stream",
     "text": [
      "-U---\n",
      "########################################\n",
      "Guessed Letters:  ['U', 'A']\n",
      "Best Word SUBHI  Prob: 4.837198053027784e-05\n",
      "Best Letter E  Prob: 0.4469631465973335\n"
     ]
    },
    {
     "name": "stdin",
     "output_type": "stream",
     "text": [
      "Enter Letter:  E\n"
     ]
    },
    {
     "name": "stdout",
     "output_type": "stream",
     "text": [
      "-U---\n",
      "########################################\n",
      "Guessed Letters:  ['U', 'A', 'E']\n",
      "Best Word SUBHI  Prob: 8.746610688358261e-05\n",
      "Best Letter S  Prob: 0.4800249278404618\n"
     ]
    },
    {
     "name": "stdin",
     "output_type": "stream",
     "text": [
      "Enter Letter:  I\n"
     ]
    },
    {
     "name": "stdout",
     "output_type": "stream",
     "text": [
      "-U---\n",
      "########################################\n",
      "Guessed Letters:  ['U', 'A', 'E', 'I']\n",
      "Best Word HUBCO  Prob: 0.00016245487364620939\n",
      "Best Letter S  Prob: 0.5586462093862816\n"
     ]
    },
    {
     "name": "stdin",
     "output_type": "stream",
     "text": [
      "Enter Letter:  O\n"
     ]
    },
    {
     "name": "stdout",
     "output_type": "stream",
     "text": [
      "-U---\n",
      "########################################\n",
      "Guessed Letters:  ['U', 'A', 'E', 'I', 'O']\n",
      "Best Word TUBBY  Prob: 0.00023119443451943085\n",
      "Best Letter S  Prob: 0.6403665482670926\n"
     ]
    },
    {
     "name": "stdin",
     "output_type": "stream",
     "text": [
      "Enter Letter:  S\n"
     ]
    },
    {
     "name": "stdout",
     "output_type": "stream",
     "text": [
      "-U---\n",
      "########################################\n",
      "Guessed Letters:  ['U', 'A', 'E', 'I', 'O', 'S']\n",
      "Best Word TUBBY  Prob: 0.000642861317281281\n",
      "Best Letter Y  Prob: 0.626965110163053\n"
     ]
    },
    {
     "name": "stdin",
     "output_type": "stream",
     "text": [
      "Enter Letter:  \n"
     ]
    }
   ],
   "source": [
    "word = \"PUDGY\"\n",
    "startGame(word)"
   ]
  },
  {
   "cell_type": "markdown",
   "metadata": {},
   "source": []
  },
  {
   "cell_type": "code",
   "execution_count": null,
   "metadata": {},
   "outputs": [],
   "source": []
  },
  {
   "cell_type": "code",
   "execution_count": null,
   "metadata": {},
   "outputs": [],
   "source": []
  },
  {
   "cell_type": "code",
   "execution_count": null,
   "metadata": {},
   "outputs": [],
   "source": []
  }
 ],
 "metadata": {
  "kernelspec": {
   "display_name": "Python 3",
   "language": "python",
   "name": "python3"
  },
  "language_info": {
   "codemirror_mode": {
    "name": "ipython",
    "version": 3
   },
   "file_extension": ".py",
   "mimetype": "text/x-python",
   "name": "python",
   "nbconvert_exporter": "python",
   "pygments_lexer": "ipython3",
   "version": "3.6.9"
  }
 },
 "nbformat": 4,
 "nbformat_minor": 4
}
