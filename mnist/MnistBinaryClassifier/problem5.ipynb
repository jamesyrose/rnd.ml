{
 "cells": [
  {
   "cell_type": "code",
   "execution_count": 7,
   "metadata": {},
   "outputs": [],
   "source": [
    "import pandas as pd\n",
    "import numpy as np\n",
    "import matplotlib.pyplot as plt"
   ]
  },
  {
   "cell_type": "code",
   "execution_count": 8,
   "metadata": {},
   "outputs": [],
   "source": [
    "col_labels = [n for n in range(64)]\n",
    "test_3 = pd.read_csv(\"test3.txt\", sep=\" \", usecols=range(64), names=col_labels)\n",
    "test_5 = pd.read_csv(\"test5.txt\", sep=\" \", usecols=range(64), names=col_labels)\n",
    "train_3 = pd.read_csv(\"train3.txt\", sep=\" \", usecols=range(64), names=col_labels)\n",
    "train_5 = pd.read_csv(\"train5.txt\", sep=\" \", usecols=range(64), names=col_labels)\n",
    "# Label it\n",
    "test_3[\"label\"] = -1\n",
    "test_5[\"label\"] = 1\n",
    "train_3[\"label\"] = -1\n",
    "train_5[\"label\"] = 1\n",
    "# join test and train\n",
    "test = pd.concat([test_3, test_5], axis=0)\n",
    "train = pd.concat([train_3, train_5], axis=0)\n",
    "# Shuffle \n",
    "test_data = test.sample(frac=1).reset_index(drop=True)\n",
    "train_data = train.sample(frac=1).reset_index(drop=True)\n",
    "# Create X y\n",
    "\n",
    "X_train = train_data.drop(columns=[\"label\"]).to_numpy()\n",
    "y_train = train_data[[\"label\"]].values\n",
    "X_test = test_data.drop(columns=[\"label\"]).to_numpy()\n",
    "y_test = test_data[[\"label\"]].values"
   ]
  },
  {
   "cell_type": "code",
   "execution_count": null,
   "metadata": {},
   "outputs": [],
   "source": []
  },
  {
   "cell_type": "code",
   "execution_count": 9,
   "metadata": {},
   "outputs": [],
   "source": [
    "def gradient(x, y, w):\n",
    "    return x * (\n",
    "        y / (1 + np.exp(\n",
    "                     np.matmul(w, x * y )\n",
    "                 )\n",
    "             )\n",
    "    )\n",
    "\n",
    "def loss(imgs, labels, w):\n",
    "    return np.mean(\n",
    "        np.log(1 + np.exp(\n",
    "                    -(np.matmul(\n",
    "                        imgs, w\n",
    "                    ) * labels\n",
    "                )\n",
    "            )\n",
    "        )\n",
    "    )\n",
    "\n",
    "def error(imgs, labels, w):\n",
    "    pred = [1 if x > 0 else -1 \n",
    "            for x in np.matmul(imgs, w)\n",
    "           ]\n",
    "    return 1 - np.mean(pred == labels)"
   ]
  },
  {
   "cell_type": "code",
   "execution_count": 10,
   "metadata": {},
   "outputs": [],
   "source": [
    "def GA(imgs, labels, w, alpha, epochs):\n",
    "    \"\"\"gradient ascent\"\"\"\n",
    "    loss_hist = [loss(imgs, labels, w)]\n",
    "    error_hist = [error(imgs, labels, w)]\n",
    "    for e in range(epochs):\n",
    "        for i in range(len(imgs)):\n",
    "            grad = gradient(imgs[i], labels[i], w)\n",
    "            w = w + grad * alpha / (e + 1)  # theta  = theta + alpha * gradient of data\n",
    "            loss_hist.append(loss(imgs, labels, w))\n",
    "            error_hist.append(error(imgs, labels, w))\n",
    "    return loss_hist, error_hist, w"
   ]
  },
  {
   "cell_type": "code",
   "execution_count": 15,
   "metadata": {},
   "outputs": [],
   "source": [
    "initial = np.zeros(64)\n",
    "learning_rate = 1e-2\n",
    "epochs = 4\n",
    "\n",
    "imgs_train = train_data.drop(columns = 'label').to_numpy()\n",
    "labels_train = train_data.label.values\n",
    "imgs_test = test_data.drop(columns='label').to_numpy()\n",
    "labels_test = test_data.label.values\n",
    "loss_hist, error_hist, w = GA(imgs_train, labels_train, initial, learning_rate, epochs)"
   ]
  },
  {
   "cell_type": "markdown",
   "metadata": {},
   "source": [
    "# Part 5.5a"
   ]
  },
  {
   "cell_type": "code",
   "execution_count": 16,
   "metadata": {},
   "outputs": [
    {
     "name": "stdout",
     "output_type": "stream",
     "text": [
      "Weights: \n",
      "[-0.28323095 -0.41053714 -0.47121745 -0.49567087 -0.33517393  0.0771154\n",
      "  0.48025072  0.75203824 -0.0589623   0.04600234  0.0762894   0.07635453\n",
      "  0.2124597   0.27178866 -0.30248714 -0.35344209  0.46834827  0.64749584\n",
      "  0.74815713  0.47089183 -0.00470823 -0.7967353  -1.34877069 -0.93588578\n",
      "  0.42972384  0.48768537  0.44196875 -0.03874832 -0.3544375  -0.32860405\n",
      " -0.20055561 -0.22301818  0.17103236  0.11202606  0.01009964 -0.14799112\n",
      " -0.20869069 -0.2264633  -0.12397711 -0.30490927  0.35283491 -0.03980203\n",
      "  0.02883675  0.19134757  0.11501162 -0.00756897 -0.06061872 -0.48226373\n",
      "  0.2299686   0.1622292   0.21508218  0.12481333 -0.0214461  -0.05414965\n",
      "  0.09442093 -0.37961469 -0.15055515  0.16839977  0.22036418  0.20611102\n",
      "  0.10213134  0.15559407 -0.1199393  -0.11190331]\n",
      "Train Error: 0.05071428571428571\n"
     ]
    },
    {
     "data": {
      "image/png": "[encoded data removed]",
      "text/plain": [
       "<Figure size 432x288 with 1 Axes>"
      ]
     },
     "metadata": {
      "needs_background": "light"
     },
     "output_type": "display_data"
    },
    {
     "data": {
      "image/png": "[encoded data removed]",
      "text/plain": [
       "<Figure size 432x288 with 1 Axes>"
      ]
     },
     "metadata": {
      "needs_background": "light"
     },
     "output_type": "display_data"
    }
   ],
   "source": [
    "print(\"Weights: \")\n",
    "print(w)\n",
    "print(\"Train Error: {}\".format(error(imgs_train, labels_train, w)))\n",
    "plt.figure()\n",
    "plt.plot(loss_hist)\n",
    "plt.xlabel('Iterations')\n",
    "plt.ylabel('Loss')\n",
    "plt.title('Loss')\n",
    "plt.show()\n",
    "\n",
    "\n",
    "plt.figure()\n",
    "plt.plot(error_hist)\n",
    "plt.xlabel('Iterations')\n",
    "plt.ylabel('Error')\n",
    "plt.title('Error')\n",
    "plt.show()"
   ]
  },
  {
   "cell_type": "markdown",
   "metadata": {},
   "source": [
    "# Part 5.5b"
   ]
  },
  {
   "cell_type": "code",
   "execution_count": 17,
   "metadata": {},
   "outputs": [
    {
     "name": "stdout",
     "output_type": "stream",
     "text": [
      "Train Error: 0.05071428571428571\n",
      "Test Error: 0.057499999999999996\n"
     ]
    }
   ],
   "source": [
    "print(\"Train Error: {}\".format(error(imgs_train, labels_train, w)))\n",
    "print(\"Test Error: {}\".format(error(imgs_test, labels_test, w)))"
   ]
  },
  {
   "cell_type": "code",
   "execution_count": null,
   "metadata": {},
   "outputs": [],
   "source": []
  },
  {
   "cell_type": "code",
   "execution_count": null,
   "metadata": {},
   "outputs": [],
   "source": []
  },
  {
   "cell_type": "code",
   "execution_count": null,
   "metadata": {},
   "outputs": [],
   "source": []
  },
  {
   "cell_type": "code",
   "execution_count": null,
   "metadata": {},
   "outputs": [],
   "source": []
  }
 ],
 "metadata": {
  "kernelspec": {
   "display_name": "Python 3",
   "language": "python",
   "name": "python3"
  },
  "language_info": {
   "codemirror_mode": {
    "name": "ipython",
    "version": 3
   },
   "file_extension": ".py",
   "mimetype": "text/x-python",
   "name": "python",
   "nbconvert_exporter": "python",
   "pygments_lexer": "ipython3",
   "version": "3.6.9"
  }
 },
 "nbformat": 4,
 "nbformat_minor": 4
}
